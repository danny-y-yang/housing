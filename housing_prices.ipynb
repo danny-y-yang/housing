{
 "cells": [
  {
   "cell_type": "code",
   "execution_count": 24,
   "id": "44a2abeb-b14e-4657-a05b-c8885e7d08d8",
   "metadata": {},
   "outputs": [],
   "source": [
    "import csv\n",
    "\n",
    "def agg(m, price_point):\n",
    "    m_stats = m.setdefault('stats', {})\n",
    "    m_agg = m_stats.setdefault('total', 0)\n",
    "    m_count = m_stats.setdefault('count', 0)\n",
    "    m_dp = m_stats.setdefault('dp', [])\n",
    "    \n",
    "    m_stats['total'] = m_agg + price_point\n",
    "    m_stats['count'] = m_count + 1\n",
    "    m_stats['dp'].append(price_point)\n",
    "\n",
    "    \n",
    "def calc(m):\n",
    "    if type(m) != dict or 'stats' not in m:\n",
    "        return\n",
    "    m_stats = m['stats']\n",
    "    m_stats['avg'] = m_stats['total'] / m_stats['count']\n",
    "    \n",
    "    m_stats['dp'].sort()\n",
    "    m_stats['median'] = m_stats['dp'][int(len(m_stats['dp']) * 0.5 - 1)]\n",
    "    m_stats['p90'] = m_stats['dp'][int(len(m_stats['dp']) * 0.9 - 1)]\n",
    "    \n",
    "    m_stats['dp'] = []\n",
    "    \n",
    "    \n",
    "matrix = {}\n",
    "with open('training.csv', 'r') as f_in:\n",
    "    reader = csv.DictReader(f_in)\n",
    "    for row in reader:\n",
    "        \n",
    "        # skip empty cities, property types, and prices\n",
    "        if not row['CITY'] or not row['PROPERTY_TYPE'] or not row['PRICE']:\n",
    "            continue\n",
    "        \n",
    "        price_point = int(row['PRICE'])\n",
    "        city_level = matrix.setdefault(row['CITY'], {})\n",
    "        p_type_level = city_level.setdefault(row['PROPERTY_TYPE'], {})\n",
    "        bb_level = p_type_level.setdefault(str(row['BEDS']) + \"_\" + str(row['BATHS']), {})\n",
    "        \n",
    "        agg(city_level, price_point)\n",
    "        agg(p_type_level, price_point)\n",
    "        agg(bb_level, price_point)\n",
    "        \n",
    "    \n",
    "    for city in matrix:\n",
    "        calc(matrix[city])\n",
    "        for p_type in matrix[city]:\n",
    "            calc(matrix[city][p_type])\n",
    "            for bb in matrix[city][p_type]:\n",
    "                calc(matrix[city][p_type][bb])    "
   ]
  },
  {
   "cell_type": "code",
   "execution_count": 54,
   "id": "b01cccd7-7285-44c2-8df4-f8a097fc2bbf",
   "metadata": {},
   "outputs": [
    {
     "data": {
      "text/plain": [
       "{'stats': {'total': 14208000,\n",
       "  'count': 9,\n",
       "  'dp': [],\n",
       "  'avg': 1578666.6666666667,\n",
       "  'median': 1360000,\n",
       "  'p90': 1900000}}"
      ]
     },
     "execution_count": 54,
     "metadata": {},
     "output_type": "execute_result"
    }
   ],
   "source": [
    "def query(in_city, # required\n",
    "          in_p_type=None,  # optional\n",
    "          n_beds=None,  # optional\n",
    "          n_baths=None # optional\n",
    "         ):\n",
    "    \n",
    "    in_city = in_city.upper().strip()\n",
    "    if in_city not in matrix:\n",
    "        raise Exception(\"City {} not in available cities: {}\".format(in_city, matrix.keys()))\n",
    "    city = matrix[in_city]\n",
    "    \n",
    "    if not in_p_type:\n",
    "        return city['stats']\n",
    "    \n",
    "    in_p_type = in_p_type.upper().strip()\n",
    "    if in_p_type not in matrix[in_city]:\n",
    "        raise Exception(\"Property type {} not in available ptypes: {}\".format(in_p_type, matrix[in_city].keys()))\n",
    "        \n",
    "    if not n_beds or not n_baths:\n",
    "        return matrix[in_city][in_p_type]['stats']\n",
    "    \n",
    "    return matrix[in_city][in_p_type].get(str(n_beds) + \"_\" + str(float(n_baths)), \"No data exists for {} beds and {} baths. Available: {}\".format(n_beds, n_baths, matrix[in_city][in_p_type].keys()))\n",
    "    \n",
    "    \n",
    "query(in_city='redwood city', in_p_type='SINGLE_FAMILY_HOME', n_beds=2, n_baths=1)"
   ]
  },
  {
   "cell_type": "code",
   "execution_count": null,
   "id": "32ef9d51-8c78-4d1f-9e25-190508bbd1a1",
   "metadata": {},
   "outputs": [],
   "source": []
  }
 ],
 "metadata": {
  "kernelspec": {
   "display_name": "Python 3 (ipykernel)",
   "language": "python",
   "name": "python3"
  },
  "language_info": {
   "codemirror_mode": {
    "name": "ipython",
    "version": 3
   },
   "file_extension": ".py",
   "mimetype": "text/x-python",
   "name": "python",
   "nbconvert_exporter": "python",
   "pygments_lexer": "ipython3",
   "version": "3.9.9"
  }
 },
 "nbformat": 4,
 "nbformat_minor": 5
}
